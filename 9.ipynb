{
 "cells": [
  {
   "cell_type": "code",
   "execution_count": 1,
   "metadata": {},
   "outputs": [
    {
     "name": "stdout",
     "output_type": "stream",
     "text": [
      "6236\n"
     ]
    }
   ],
   "source": [
    "import math\n",
    "\n",
    "\n",
    "def move(end, direction):\n",
    "    if direction == \"R\":\n",
    "        end[\"x\"] += 1\n",
    "    elif direction == \"L\":\n",
    "        end[\"x\"] -= 1\n",
    "    elif direction == \"U\":\n",
    "        end[\"y\"] += 1\n",
    "    elif direction == \"D\":\n",
    "        end[\"y\"] -= 1\n",
    "\n",
    "\n",
    "with open(\"9.txt\") as f:\n",
    "    data = [line.strip() for line in f]\n",
    "\n",
    "# data = [\"R 4\", \"U 4\", \"L 3\", \"D 1\", \"R 4\", \"D 1\", \"L 5\", \"R 2\"]\n",
    "tail_positions = {(0, 0)}\n",
    "head = {\"x\": 0, \"y\": 0}\n",
    "tail = {\"x\": 0, \"y\": 0}\n",
    "for line in data:\n",
    "    head_direction, head_steps = line.split()\n",
    "    head_steps = int(head_steps)\n",
    "    # print(head_direction, head_steps)\n",
    "    for i in range(head_steps):\n",
    "        move(head, head_direction)\n",
    "        distance = math.sqrt((head[\"x\"] - tail[\"x\"]) ** 2 + (head[\"y\"] - tail[\"y\"]) ** 2)\n",
    "        # print(head, tail, distance)\n",
    "        if distance >= 2:\n",
    "            tail_directions = []\n",
    "            if head[\"x\"] > tail[\"x\"]:\n",
    "                tail_directions.append(\"R\")\n",
    "            if head[\"x\"] < tail[\"x\"]:\n",
    "                tail_directions.append(\"L\")\n",
    "            if head[\"y\"] > tail[\"y\"]:\n",
    "                tail_directions.append(\"U\")\n",
    "            if head[\"y\"] < tail[\"y\"]:\n",
    "                tail_directions.append(\"D\")\n",
    "            for direction in tail_directions:\n",
    "                move(tail, direction)\n",
    "                # print(tail)\n",
    "            tail_positions.add((tail[\"x\"], tail[\"y\"]))\n",
    "print(len(tail_positions))"
   ]
  },
  {
   "cell_type": "code",
   "execution_count": 2,
   "metadata": {},
   "outputs": [
    {
     "name": "stdout",
     "output_type": "stream",
     "text": [
      "2449\n"
     ]
    }
   ],
   "source": [
    "import math\n",
    "\n",
    "\n",
    "def move(end, direction):\n",
    "    if direction == \"R\":\n",
    "        end[\"x\"] += 1\n",
    "    elif direction == \"L\":\n",
    "        end[\"x\"] -= 1\n",
    "    elif direction == \"U\":\n",
    "        end[\"y\"] += 1\n",
    "    elif direction == \"D\":\n",
    "        end[\"y\"] -= 1\n",
    "\n",
    "def move_tail(head, tail):\n",
    "    distance = math.sqrt((head[\"x\"] - tail[\"x\"]) ** 2 + (head[\"y\"] - tail[\"y\"]) ** 2)\n",
    "    # print(head, tail, distance)\n",
    "    if distance >= 2:\n",
    "        tail_directions = []\n",
    "        if head[\"x\"] > tail[\"x\"]:\n",
    "            tail_directions.append(\"R\")\n",
    "        if head[\"x\"] < tail[\"x\"]:\n",
    "            tail_directions.append(\"L\")\n",
    "        if head[\"y\"] > tail[\"y\"]:\n",
    "            tail_directions.append(\"U\")\n",
    "        if head[\"y\"] < tail[\"y\"]:\n",
    "            tail_directions.append(\"D\")\n",
    "        for direction in tail_directions:\n",
    "            move(tail, direction)\n",
    "    \n",
    "\n",
    "\n",
    "with open(\"9.txt\") as f:\n",
    "    data = [line.strip() for line in f]\n",
    "\n",
    "# data = [\"R 5\",\"U 8\",\"L 8\",\"D 3\",\"R 17\",\"D 10\",\"L 25\",\"U 20\"]\n",
    "\n",
    "tail_positions = {(0, 0)}\n",
    "head = {\"x\": 0, \"y\": 0}\n",
    "t1 = {\"x\": 0, \"y\": 0}\n",
    "t2 = {\"x\": 0, \"y\": 0}\n",
    "t3 = {\"x\": 0, \"y\": 0}\n",
    "t4 = {\"x\": 0, \"y\": 0}\n",
    "t5 = {\"x\": 0, \"y\": 0}\n",
    "t6 = {\"x\": 0, \"y\": 0}\n",
    "t7 = {\"x\": 0, \"y\": 0}\n",
    "t8 = {\"x\": 0, \"y\": 0}\n",
    "t9 = {\"x\": 0, \"y\": 0}\n",
    "knots = [head, t1, t2, t3, t4, t5, t6, t7, t8, t9]\n",
    "\n",
    "for line in data:\n",
    "    head_direction, head_steps = line.split()\n",
    "    head_steps = int(head_steps)\n",
    "    for i in range(head_steps):\n",
    "        move(head, head_direction)\n",
    "        for h, t in zip(knots, knots[1:]):\n",
    "            move_tail(h, t)\n",
    "            \n",
    "        tail_positions.add((t9[\"x\"], t9[\"y\"]))\n",
    "print(len(tail_positions))"
   ]
  },
  {
   "cell_type": "code",
   "execution_count": null,
   "metadata": {},
   "outputs": [],
   "source": []
  }
 ],
 "metadata": {
  "kernelspec": {
   "display_name": "Python 3.8.3 64-bit",
   "language": "python",
   "name": "python3"
  },
  "language_info": {
   "codemirror_mode": {
    "name": "ipython",
    "version": 3
   },
   "file_extension": ".py",
   "mimetype": "text/x-python",
   "name": "python",
   "nbconvert_exporter": "python",
   "pygments_lexer": "ipython3",
   "version": "3.8.3"
  },
  "orig_nbformat": 4,
  "vscode": {
   "interpreter": {
    "hash": "2f9d6cf1e3d8195079a65c851de355134a77367bcd714b1a5d498c42d3c07114"
   }
  }
 },
 "nbformat": 4,
 "nbformat_minor": 2
}
