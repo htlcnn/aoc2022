{
 "cells": [
  {
   "cell_type": "code",
   "execution_count": 1,
   "metadata": {},
   "outputs": [
    {
     "name": "stdout",
     "output_type": "stream",
     "text": [
      "-893678 3999864 -690123 3975025\n",
      "5240818\n"
     ]
    }
   ],
   "source": [
    "import re\n",
    "\n",
    "\n",
    "def distance(p1, p2):\n",
    "    return abs(p1[0] - p2[0]) + abs(p1[1] - p2[1])\n",
    "\n",
    "\n",
    "S = []\n",
    "B = []\n",
    "with open(\"15.txt\") as f:\n",
    "    for line in f:\n",
    "        data = re.match(r\"Sensor at x=(-?\\d+), y=(-?\\d+): closest beacon is at x=(-?\\d+), y=(-?\\d+)\", line.strip())\n",
    "        if data:\n",
    "            xs, ys, xb, yb = map(int, data.groups())\n",
    "            S.append((xs, ys))\n",
    "            B.append((xb, yb))\n",
    "\n",
    "min_x = min(p[0] for p in S + B)\n",
    "max_x = max(p[0] for p in S + B)\n",
    "min_y = min(p[1] for p in S + B)\n",
    "max_y = max(p[1] for p in S + B)\n",
    "\n",
    "print(min_x, max_x, min_y, max_y)\n",
    "\n",
    "max_distances = [distance(p1, p2) for p1, p2 in zip(S, B)]\n",
    "count = 0\n",
    "y = 2_000_000\n",
    "for x in range(min_x - max(max_distances), max_x + max(max_distances) + 1):\n",
    "    p = (x, y)\n",
    "    if p in B or p in S:\n",
    "        continue\n",
    "    if any(distance(p, p1) <= max_distances[idx] for idx, p1 in enumerate(S)):\n",
    "        count += 1\n",
    "\n",
    "print(count)"
   ]
  }
 ],
 "metadata": {
  "kernelspec": {
   "display_name": "Python 3.10.1 64-bit",
   "language": "python",
   "name": "python3"
  },
  "language_info": {
   "codemirror_mode": {
    "name": "ipython",
    "version": 3
   },
   "file_extension": ".py",
   "mimetype": "text/x-python",
   "name": "python",
   "nbconvert_exporter": "python",
   "pygments_lexer": "ipython3",
   "version": "3.8.3"
  },
  "orig_nbformat": 4,
  "vscode": {
   "interpreter": {
    "hash": "2f9d6cf1e3d8195079a65c851de355134a77367bcd714b1a5d498c42d3c07114"
   }
  }
 },
 "nbformat": 4,
 "nbformat_minor": 2
}
