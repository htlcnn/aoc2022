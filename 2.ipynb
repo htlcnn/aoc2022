{
 "cells": [
  {
   "cell_type": "code",
   "execution_count": 1,
   "metadata": {},
   "outputs": [
    {
     "name": "stdout",
     "output_type": "stream",
     "text": [
      "11475\n"
     ]
    }
   ],
   "source": [
    "opponent = {\"A\": \"Rock\", \"B\": \"Paper\", \"C\": \"Scissors\"}\n",
    "me = {\"X\": \"Rock\", \"Y\": \"Paper\", \"Z\": \"Scissors\"}\n",
    "point_for_chosen = {\"Rock\": 1, \"Paper\": 2, \"Scissors\": 3}\n",
    "point_for_result = {\"lose\": 0, \"draw\": 3, \"win\": 6}\n",
    "\n",
    "def point(opponent, me):\n",
    "    if opponent == me:\n",
    "        result = \"draw\"\n",
    "        return point_for_chosen[me] + point_for_result[result]\n",
    "\n",
    "    points = 0\n",
    "    if opponent == \"Rock\":\n",
    "        if me == \"Paper\":\n",
    "            result = \"win\"\n",
    "        elif me == \"Scissors\":\n",
    "            result = \"lose\"\n",
    "    elif opponent == \"Paper\":\n",
    "        if me == \"Rock\":\n",
    "            result = \"lose\"\n",
    "        elif me == \"Scissors\":\n",
    "            result = \"win\"\n",
    "    elif opponent == \"Scissors\":\n",
    "        if me == \"Rock\":\n",
    "            result = \"win\"\n",
    "        elif me == \"Paper\":\n",
    "            result = \"lose\"\n",
    "    return point_for_chosen[me] + point_for_result[result]\n",
    "\n",
    "total = 0\n",
    "with open(\"2.txt\") as f:\n",
    "    for line in f:\n",
    "        o, m = line.strip().split()\n",
    "        o = opponent[o]\n",
    "        m = me[m]\n",
    "        total += point(o, m)\n",
    "\n",
    "print(total)"
   ]
  },
  {
   "cell_type": "code",
   "execution_count": 2,
   "metadata": {},
   "outputs": [
    {
     "name": "stdout",
     "output_type": "stream",
     "text": [
      "16862\n"
     ]
    }
   ],
   "source": [
    "total = 0\n",
    "with open(\"2.txt\") as f:\n",
    "    for line in f:\n",
    "        o, m = line.strip().split()\n",
    "        o = opponent[o]\n",
    "        if m == \"X\": #lose\n",
    "            point_for_result = 0\n",
    "            if o == \"Rock\":\n",
    "                total += point_for_chosen[\"Scissors\"]\n",
    "            elif o == \"Paper\":\n",
    "                total += point_for_chosen[\"Rock\"]\n",
    "            elif o == \"Scissors\":\n",
    "                total += point_for_chosen[\"Paper\"]\n",
    "        elif m == \"Y\": #draw\n",
    "            point_for_result = 3\n",
    "            total += point_for_chosen[o]\n",
    "        elif m == \"Z\": #win\n",
    "            point_for_result = 6\n",
    "            if o == \"Rock\":\n",
    "                total += point_for_chosen[\"Paper\"]\n",
    "            elif o == \"Paper\":\n",
    "                total += point_for_chosen[\"Scissors\"]\n",
    "            elif o == \"Scissors\":\n",
    "                total += point_for_chosen[\"Rock\"]\n",
    "        total += point_for_result\n",
    "print(total)"
   ]
  },
  {
   "cell_type": "code",
   "execution_count": null,
   "metadata": {},
   "outputs": [],
   "source": []
  }
 ],
 "metadata": {
  "kernelspec": {
   "display_name": "Python 3.10.1 64-bit",
   "language": "python",
   "name": "python3"
  },
  "language_info": {
   "codemirror_mode": {
    "name": "ipython",
    "version": 3
   },
   "file_extension": ".py",
   "mimetype": "text/x-python",
   "name": "python",
   "nbconvert_exporter": "python",
   "pygments_lexer": "ipython3",
   "version": "3.8.3"
  },
  "orig_nbformat": 4,
  "vscode": {
   "interpreter": {
    "hash": "2f9d6cf1e3d8195079a65c851de355134a77367bcd714b1a5d498c42d3c07114"
   }
  }
 },
 "nbformat": 4,
 "nbformat_minor": 2
}
