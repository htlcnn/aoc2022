{
 "cells": [
  {
   "cell_type": "code",
   "execution_count": 1,
   "metadata": {},
   "outputs": [
    {
     "name": "stdout",
     "output_type": "stream",
     "text": [
      "1672\n"
     ]
    }
   ],
   "source": [
    "def max_number(string):\n",
    "    if not string:\n",
    "        return\n",
    "    ret = int(string[0])\n",
    "    for c in string:\n",
    "        if int(c) > ret:\n",
    "            ret = int(c)\n",
    "    return ret\n",
    "\n",
    "\n",
    "with open(\"8.txt\") as f:\n",
    "    data = [line.strip() for line in f.readlines()]\n",
    "# data = [\"30373\" \"25512\" \"65332\" \"33549\" \"35390\"]\n",
    "count = 0\n",
    "for i, line in enumerate(data[1:-1], start=1):\n",
    "    for j, char in enumerate(line[1:-1], start=1):\n",
    "        left_max = max_number(line[:j])\n",
    "        right_max = max_number(line[j + 1 :])\n",
    "        all_top = \"\".join(top_line[j] for top_line in data[:i])\n",
    "        top_max = max_number(all_top)\n",
    "        all_bottom = \"\".join(bottom_line[j] for bottom_line in data[i + 1 :])\n",
    "        bottom_max = max_number(all_bottom)\n",
    "        if left_max < int(char) or right_max < int(char) or bottom_max < int(char) or top_max < int(char):\n",
    "            count += 1\n",
    "\n",
    "print(count + len(data) * 2 + (len(data) - 2) * 2)\n"
   ]
  },
  {
   "cell_type": "code",
   "execution_count": 2,
   "metadata": {},
   "outputs": [
    {
     "name": "stdout",
     "output_type": "stream",
     "text": [
      "327180\n"
     ]
    }
   ],
   "source": [
    "with open(\"8.txt\") as f:\n",
    "    data = [line.strip() for line in f.readlines()]\n",
    "\n",
    "scores = []\n",
    "for i, line in enumerate(data):\n",
    "    for j, char in enumerate(line):\n",
    "        left_distance = 0\n",
    "        all_left = [int(c) for c in line[:j]]\n",
    "        for left_tree in all_left[::-1]:\n",
    "            left_distance += 1\n",
    "            if left_tree >= int(char):\n",
    "                break\n",
    "        \n",
    "        right_distance = 0\n",
    "        all_right = [int(c) for c in line[j+1:]]\n",
    "        for right_tree in all_right:\n",
    "            right_distance += 1\n",
    "            if right_tree >= int(char):\n",
    "                break\n",
    "\n",
    "        top_distance = 0\n",
    "        all_top = [int(top_line[j]) for top_line in data[:i]]\n",
    "        for top_tree in all_top[::-1]:\n",
    "            top_distance += 1\n",
    "            if top_tree >= int(char):\n",
    "                break\n",
    "        \n",
    "        bottom_distance = 0\n",
    "        all_bottom = [int(bottom_line[j]) for bottom_line in data[i + 1 :]]\n",
    "        for bottom_tree in all_bottom:\n",
    "            bottom_distance += 1\n",
    "            if bottom_tree >= int(char):\n",
    "                break\n",
    "\n",
    "        scenic_score = left_distance * right_distance * top_distance * bottom_distance\n",
    "        scores.append(scenic_score)\n",
    "print(max(scores))"
   ]
  }
 ],
 "metadata": {
  "kernelspec": {
   "display_name": "Python 3.8.3 64-bit",
   "language": "python",
   "name": "python3"
  },
  "language_info": {
   "codemirror_mode": {
    "name": "ipython",
    "version": 3
   },
   "file_extension": ".py",
   "mimetype": "text/x-python",
   "name": "python",
   "nbconvert_exporter": "python",
   "pygments_lexer": "ipython3",
   "version": "3.8.3"
  },
  "orig_nbformat": 4,
  "vscode": {
   "interpreter": {
    "hash": "2f9d6cf1e3d8195079a65c851de355134a77367bcd714b1a5d498c42d3c07114"
   }
  }
 },
 "nbformat": 4,
 "nbformat_minor": 2
}
