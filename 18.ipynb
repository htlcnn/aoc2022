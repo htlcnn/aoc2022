{
 "cells": [
  {
   "cell_type": "code",
   "execution_count": 1,
   "metadata": {},
   "outputs": [
    {
     "name": "stdout",
     "output_type": "stream",
     "text": [
      "3564\n"
     ]
    }
   ],
   "source": [
    "coords = set()\n",
    "with open(\"18.txt\") as f:\n",
    "    for line in f:\n",
    "        line = line.strip()\n",
    "        x, y, z = map(int, line.split(\",\"))\n",
    "        coords.add((x, y, z))\n",
    "\n",
    "\n",
    "def neighbours(coord):\n",
    "    x, y, z = coord\n",
    "    for dx, dy, dz in ((1, 0, 0), (-1, 0, 0), (0, 1, 0), (0, -1, 0), (0, 0, 1), (0, 0, -1)):\n",
    "        yield x + dx, y + dy, z + dz\n",
    "\n",
    "\n",
    "count = 0\n",
    "for coord in coords:\n",
    "    for n in neighbours(coord):\n",
    "        if n not in coords:\n",
    "            count += 1\n",
    "\n",
    "print(count)"
   ]
  },
  {
   "cell_type": "code",
   "execution_count": 2,
   "metadata": {},
   "outputs": [
    {
     "name": "stdout",
     "output_type": "stream",
     "text": [
      "2106\n"
     ]
    }
   ],
   "source": [
    "from math import inf\n",
    "\n",
    "\n",
    "class Bounds:\n",
    "    def __init__(self, coords):\n",
    "        min_coords = inf, inf, inf\n",
    "        max_coords = 0, 0, 0\n",
    "        for c in coords:\n",
    "            min_coords = tuple(map(min, zip(c, min_coords)))\n",
    "            max_coords = tuple(map(max, zip(c, max_coords)))\n",
    "        self.ranges = [set(range(c1 - 1, c2 + 2)) for c1, c2 in zip(min_coords, max_coords)]\n",
    "        self.min_coords = min_coords\n",
    "\n",
    "    def __contains__(self, coords):\n",
    "        for c, _range in zip(coords, self.ranges):\n",
    "            if c not in _range:\n",
    "                return False\n",
    "        return True\n",
    "\n",
    "\n",
    "def neighbours(coords):\n",
    "    x, y, z = coords\n",
    "    for dx, dy, dz in ((1, 0, 0), (-1, 0, 0), (0, 1, 0), (0, -1, 0), (0, 0, 1), (0, 0, -1)):\n",
    "        yield x + dx, y + dy, z + dz\n",
    "\n",
    "\n",
    "coords = set()\n",
    "with open(\"18.txt\") as f:\n",
    "    for line in f:\n",
    "        line = line.strip()\n",
    "        x, y, z = map(int, line.split(\",\"))\n",
    "        coords.add((x, y, z))\n",
    "\n",
    "bounds = Bounds(coords)\n",
    "q = [bounds.min_coords]\n",
    "seen = {bounds.min_coords}\n",
    "area = 0\n",
    "while q:\n",
    "    coord = q.pop()\n",
    "    for n in neighbours(coord):\n",
    "        if n in seen or n not in bounds:\n",
    "            continue\n",
    "        if n in coords:\n",
    "            area += 1\n",
    "        else:\n",
    "            seen.add(n)\n",
    "            q.append(n)\n",
    "print(area)"
   ]
  },
  {
   "cell_type": "code",
   "execution_count": null,
   "metadata": {},
   "outputs": [],
   "source": []
  }
 ],
 "metadata": {
  "kernelspec": {
   "display_name": "Python 3.8.3 64-bit",
   "language": "python",
   "name": "python3"
  },
  "language_info": {
   "codemirror_mode": {
    "name": "ipython",
    "version": 3
   },
   "file_extension": ".py",
   "mimetype": "text/x-python",
   "name": "python",
   "nbconvert_exporter": "python",
   "pygments_lexer": "ipython3",
   "version": "3.8.3"
  },
  "orig_nbformat": 4,
  "vscode": {
   "interpreter": {
    "hash": "2f9d6cf1e3d8195079a65c851de355134a77367bcd714b1a5d498c42d3c07114"
   }
  }
 },
 "nbformat": 4,
 "nbformat_minor": 2
}
