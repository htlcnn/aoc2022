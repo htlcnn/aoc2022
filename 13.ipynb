{
 "cells": [
  {
   "cell_type": "code",
   "execution_count": 4,
   "metadata": {},
   "outputs": [
    {
     "name": "stdout",
     "output_type": "stream",
     "text": [
      "5292\n"
     ]
    }
   ],
   "source": [
    "import json\n",
    "\n",
    "\n",
    "def compare_pairs(first, second):\n",
    "    if isinstance(first, int) and isinstance(second, int):\n",
    "        return first < second\n",
    "    elif isinstance(first, list) and isinstance(second, list):\n",
    "        for i in range(min(len(first), len(second))):\n",
    "            if compare_pairs(first[i], second[i]):\n",
    "                return True\n",
    "            elif compare_pairs(second[i], first[i]):\n",
    "                return False\n",
    "        return len(first) < len(second)\n",
    "    elif isinstance(first, int) and isinstance(second, list):\n",
    "        return compare_pairs([first], second)\n",
    "    elif isinstance(first, list) and isinstance(second, int):\n",
    "        return compare_pairs(first, [second])\n",
    "\n",
    "\n",
    "with open(\"13.txt\") as f:\n",
    "    data = f.read().split(\"\\n\\n\")\n",
    "ret = 0\n",
    "for idx, pairs in enumerate(data, start=1):\n",
    "    # print(\"*\" * 80)\n",
    "    l1, l2 = pairs.splitlines()\n",
    "    l1 = json.loads(l1)\n",
    "    l2 = json.loads(l2)        \n",
    "    # print(f\"Compare {l1} and {l2}\")\n",
    "    if compare_pairs(l1, l2):\n",
    "        # print(idx)\n",
    "        ret += idx\n",
    "print(ret)"
   ]
  },
  {
   "cell_type": "code",
   "execution_count": 2,
   "metadata": {},
   "outputs": [
    {
     "name": "stdout",
     "output_type": "stream",
     "text": [
      "23868\n"
     ]
    }
   ],
   "source": [
    "import json\n",
    "from functools import cmp_to_key\n",
    "\n",
    "\n",
    "def compare_pairs(first, second):\n",
    "    if isinstance(first, int) and isinstance(second, int):\n",
    "        return first - second\n",
    "    elif isinstance(first, int) and isinstance(second, list):\n",
    "        return compare_pairs([first], second)\n",
    "    elif isinstance(first, list) and isinstance(second, int):\n",
    "        return compare_pairs(first, [second])\n",
    "\n",
    "    for i, j in zip(first, second):\n",
    "        res = compare_pairs(i, j)\n",
    "        if res != 0:\n",
    "            return res\n",
    "\n",
    "    return len(first) - len(second)\n",
    "\n",
    "\n",
    "with open(\"13.txt\") as f:\n",
    "    data = f.read().replace(\"\\n\\n\", \"\\n\").splitlines()\n",
    "data = list(map(json.loads, data))\n",
    "data.extend(([[2]], [[6]]))\n",
    "# print(data)\n",
    "data.sort(key=cmp_to_key(compare_pairs))\n",
    "res = data.index([[2]]) + 1\n",
    "res *= data.index([[6]]) + 1\n",
    "print(res)"
   ]
  },
  {
   "cell_type": "code",
   "execution_count": null,
   "metadata": {},
   "outputs": [],
   "source": []
  }
 ],
 "metadata": {
  "kernelspec": {
   "display_name": "Python 3.8.3 64-bit",
   "language": "python",
   "name": "python3"
  },
  "language_info": {
   "codemirror_mode": {
    "name": "ipython",
    "version": 3
   },
   "file_extension": ".py",
   "mimetype": "text/x-python",
   "name": "python",
   "nbconvert_exporter": "python",
   "pygments_lexer": "ipython3",
   "version": "3.8.3"
  },
  "orig_nbformat": 4,
  "vscode": {
   "interpreter": {
    "hash": "2f9d6cf1e3d8195079a65c851de355134a77367bcd714b1a5d498c42d3c07114"
   }
  }
 },
 "nbformat": 4,
 "nbformat_minor": 2
}
