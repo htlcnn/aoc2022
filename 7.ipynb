{
 "cells": [
  {
   "cell_type": "code",
   "execution_count": 2,
   "metadata": {},
   "outputs": [
    {
     "name": "stdout",
     "output_type": "stream",
     "text": [
      "1792222\n"
     ]
    }
   ],
   "source": [
    "import os\n",
    "\n",
    "\n",
    "def create_dummy_file(size, name):\n",
    "    f = open(name, \"wb\")\n",
    "    f.seek(size - 1)\n",
    "    f.write(b\"\\0\")\n",
    "    f.close()\n",
    "\n",
    "\n",
    "def get_folder_size(folder_path):\n",
    "    size = 0\n",
    "    for dirpath, dirnames, filenames in os.walk(folder_path):\n",
    "        for filename in filenames:\n",
    "            full_path = f\"{dirpath}/{filename}\"\n",
    "            size += os.path.getsize(full_path)\n",
    "    return size\n",
    "\n",
    "\n",
    "AOC_ROOT = r\"D:\\Syncthing\\python\\aoc2022\"\n",
    "os.chdir(AOC_ROOT)\n",
    "with open(\"7.txt\") as f:\n",
    "    data = [line.strip() for line in f]\n",
    "\n",
    "os.mkdir(\"7\")\n",
    "os.chdir(\"7\")\n",
    "\n",
    "for idx, line in enumerate(data[1:], start=1):\n",
    "    if not line:\n",
    "        continue\n",
    "    if line.startswith(\"$ cd\"):\n",
    "        os.chdir(line.split()[-1])\n",
    "    elif line.startswith(\"dir\"):\n",
    "        os.mkdir(line.split()[-1])\n",
    "    elif line.startswith(\"$ ls\"):\n",
    "        for children in data[idx + 1 :]:\n",
    "            if children.startswith(\"$ \"):\n",
    "                break\n",
    "            if children.split()[0].isnumeric():\n",
    "                size, name = children.split()\n",
    "                create_dummy_file(int(size), name)\n",
    "\n",
    "total_size = 0\n",
    "ROOT = r\"D:\\Syncthing\\python\\aoc2022\\7\"\n",
    "for dirpath, dirnames, filenames in os.walk(ROOT):\n",
    "    size = get_folder_size(dirpath)\n",
    "    if size <= 100000:\n",
    "        total_size += size\n",
    "print(total_size)\n"
   ]
  },
  {
   "cell_type": "code",
   "execution_count": 4,
   "metadata": {},
   "outputs": [
    {
     "name": "stdout",
     "output_type": "stream",
     "text": [
      "1112963\n"
     ]
    }
   ],
   "source": [
    "current_size = get_folder_size(ROOT)\n",
    "remaining = 70_000_000 - current_size\n",
    "need = 30_000_000 - remaining\n",
    "sizes = []\n",
    "for dirpath, dirnames, filenames in os.walk(ROOT):\n",
    "    sizes.append(get_folder_size(dirpath))\n",
    "for size in sorted(sizes):\n",
    "    if size >= need:\n",
    "        print(size)\n",
    "        break"
   ]
  },
  {
   "cell_type": "code",
   "execution_count": null,
   "metadata": {},
   "outputs": [],
   "source": []
  }
 ],
 "metadata": {
  "kernelspec": {
   "display_name": "Python 3.8.3 64-bit",
   "language": "python",
   "name": "python3"
  },
  "language_info": {
   "codemirror_mode": {
    "name": "ipython",
    "version": 3
   },
   "file_extension": ".py",
   "mimetype": "text/x-python",
   "name": "python",
   "nbconvert_exporter": "python",
   "pygments_lexer": "ipython3",
   "version": "3.8.3"
  },
  "orig_nbformat": 4,
  "vscode": {
   "interpreter": {
    "hash": "2f9d6cf1e3d8195079a65c851de355134a77367bcd714b1a5d498c42d3c07114"
   }
  }
 },
 "nbformat": 4,
 "nbformat_minor": 2
}
