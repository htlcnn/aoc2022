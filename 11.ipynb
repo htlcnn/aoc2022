{
 "cells": [
  {
   "cell_type": "code",
   "execution_count": 1,
   "metadata": {},
   "outputs": [
    {
     "name": "stdout",
     "output_type": "stream",
     "text": [
      "50616\n"
     ]
    }
   ],
   "source": [
    "from pprint import pprint\n",
    "\n",
    "with open(\"11.txt\") as f:\n",
    "    data = [p.strip() for p in f.read().split(\"Monkey\") if p.strip()]\n",
    "\n",
    "monkeys = []\n",
    "for p in data:\n",
    "    idx, items, operation, test, true, false = p.splitlines()\n",
    "    items = [int(i.strip()) for i in items.split(\":\")[-1].split(\",\")]\n",
    "    operation = operation.split(\"=\")[-1].strip()\n",
    "    test = int(test.split(\"divisible by\")[-1])\n",
    "    test_true = int(true.split(\"monkey\")[-1])\n",
    "    test_false = int(false.split(\"monkey\")[-1])\n",
    "    monkeys.append(\n",
    "        {\n",
    "            \"items\": items,\n",
    "            \"operation\": operation,\n",
    "            \"test\": test,\n",
    "            \"true\": test_true,\n",
    "            \"false\": test_false,\n",
    "            \"inspects\": 0,\n",
    "        }\n",
    "    )\n",
    "\n",
    "for i in range(20):\n",
    "    for monkey in monkeys:\n",
    "        for i in range(len(monkey[\"items\"])):\n",
    "            item = monkey[\"items\"].pop(0)\n",
    "            operation = monkey[\"operation\"].replace(\"old\", str(item))\n",
    "            result = eval(operation)\n",
    "            result = int(result / 3)\n",
    "            if result % monkey[\"test\"] == 0:\n",
    "                target = monkey[\"true\"]\n",
    "            else:\n",
    "                target = monkey[\"false\"]\n",
    "            monkeys[target][\"items\"].append(result)\n",
    "            monkey[\"inspects\"] += 1\n",
    "business = 1\n",
    "for count in sorted([monkey[\"inspects\"] for monkey in monkeys])[-2:]:\n",
    "    business *= count\n",
    "print(business)"
   ]
  },
  {
   "cell_type": "code",
   "execution_count": 1,
   "metadata": {},
   "outputs": [
    {
     "name": "stdout",
     "output_type": "stream",
     "text": [
      "9699690\n",
      "1000 [10613, 10617] 112678221\n",
      "2000 [21252, 21255] 451711260\n",
      "3000 [31886, 31889] 1016812654\n",
      "4000 [42523, 42528] 1808418144\n",
      "5000 [53159, 53164] 2826145076\n",
      "6000 [63795, 63803] 4070312385\n",
      "7000 [74433, 74437] 5540569221\n",
      "8000 [85068, 85075] 7237160100\n",
      "9000 [95707, 95710] 9160116970\n",
      "10000 [106342, 106346] 11309046332\n"
     ]
    }
   ],
   "source": [
    "from pprint import pprint\n",
    "\n",
    "with open(\"11.txt\") as f:\n",
    "    data = [p.strip() for p in f.read().split(\"Monkey\") if p.strip()]\n",
    "\n",
    "monkeys = []\n",
    "for p in data:\n",
    "    idx, items, operation, test, true, false = p.splitlines()\n",
    "    items = [int(i.strip()) for i in items.split(\":\")[-1].split(\",\")]\n",
    "    operation = operation.split(\"=\")[-1].strip()\n",
    "    test = int(test.split(\"divisible by\")[-1])\n",
    "    test_true = int(true.split(\"monkey\")[-1])\n",
    "    test_false = int(false.split(\"monkey\")[-1])\n",
    "    monkeys.append(\n",
    "        {\n",
    "            \"items\": items,\n",
    "            \"operation\": operation,\n",
    "            \"test\": test,\n",
    "            \"true\": test_true,\n",
    "            \"false\": test_false,\n",
    "            \"inspects\": 0,\n",
    "        }\n",
    "    )\n",
    "\n",
    "from math import gcd\n",
    "\n",
    "def lcm(*numbers):\n",
    "\tit  = iter(numbers)\n",
    "\tres = next(it)\n",
    "\n",
    "\tfor x in it:\n",
    "\t\tres = res * x // gcd(res, x)\n",
    "\treturn res\n",
    "\n",
    "m = lcm(*[monkey[\"test\"] for monkey in monkeys])\n",
    "print(m)\n",
    "\n",
    "for i in range(10000):\n",
    "    for monkey in monkeys:\n",
    "        if not monkey[\"items\"]:\n",
    "            continue\n",
    "        for _ in range(len(monkey[\"items\"])):\n",
    "            item = monkey[\"items\"].pop(0)\n",
    "            operation = monkey[\"operation\"].replace(\"old\", str(item))\n",
    "            result = eval(operation)\n",
    "            result = result % m\n",
    "            if result % monkey[\"test\"] == 0:\n",
    "                target = monkey[\"true\"]\n",
    "            else:\n",
    "                target = monkey[\"false\"]\n",
    "            monkeys[target][\"items\"].append(result)\n",
    "            monkey[\"inspects\"] += 1\n",
    "    if (i+1) % 1000 == 0:\n",
    "        business = 1\n",
    "        most = sorted([monkey[\"inspects\"] for monkey in monkeys])[-2:]\n",
    "        for count in most:\n",
    "            business *= count\n",
    "        print(i + 1, most, business)"
   ]
  },
  {
   "cell_type": "code",
   "execution_count": null,
   "metadata": {},
   "outputs": [],
   "source": []
  }
 ],
 "metadata": {
  "kernelspec": {
   "display_name": "Python 3.8.3 64-bit",
   "language": "python",
   "name": "python3"
  },
  "language_info": {
   "codemirror_mode": {
    "name": "ipython",
    "version": 3
   },
   "file_extension": ".py",
   "mimetype": "text/x-python",
   "name": "python",
   "nbconvert_exporter": "python",
   "pygments_lexer": "ipython3",
   "version": "3.8.3"
  },
  "orig_nbformat": 4,
  "vscode": {
   "interpreter": {
    "hash": "2f9d6cf1e3d8195079a65c851de355134a77367bcd714b1a5d498c42d3c07114"
   }
  }
 },
 "nbformat": 4,
 "nbformat_minor": 2
}
