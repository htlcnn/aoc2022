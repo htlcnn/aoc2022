{
 "cells": [
  {
   "cell_type": "code",
   "execution_count": 53,
   "metadata": {},
   "outputs": [],
   "source": [
    "def snafu2dec(n):\n",
    "    ret = 0\n",
    "    n = str(n)\n",
    "    for i, c in enumerate(n[::-1]):\n",
    "        if c == \"=\":\n",
    "            ret += -2 * 5 ** int(i)\n",
    "        elif c == \"-\":\n",
    "            ret += -(5 ** int(i))\n",
    "        else:\n",
    "            ret += int(c) * 5 ** int(i)\n",
    "    return ret\n",
    "\n",
    "def dec2snafu(n):\n",
    "    ret = []\n",
    "    while n > 0:\n",
    "        ret.append(\"012=-\"[n % 5])\n",
    "        n = (2 + n) // 5\n",
    "    return \"\".join(ret)[::-1]"
   ]
  },
  {
   "cell_type": "code",
   "execution_count": 56,
   "metadata": {},
   "outputs": [
    {
     "name": "stdout",
     "output_type": "stream",
     "text": [
      "35617696411945 2-2=21=0021=-02-1=-0\n"
     ]
    }
   ],
   "source": [
    "s = 0\n",
    "with open(\"25.txt\") as f:\n",
    "    for line in f:\n",
    "        line = line.strip()\n",
    "        s += snafu2dec(line)\n",
    "print(s, dec2snafu(s))"
   ]
  },
  {
   "cell_type": "code",
   "execution_count": 52,
   "metadata": {},
   "outputs": [],
   "source": []
  }
 ],
 "metadata": {
  "kernelspec": {
   "display_name": "Python 3.8.3 64-bit",
   "language": "python",
   "name": "python3"
  },
  "language_info": {
   "codemirror_mode": {
    "name": "ipython",
    "version": 3
   },
   "file_extension": ".py",
   "mimetype": "text/x-python",
   "name": "python",
   "nbconvert_exporter": "python",
   "pygments_lexer": "ipython3",
   "version": "3.10.1"
  },
  "orig_nbformat": 4,
  "vscode": {
   "interpreter": {
    "hash": "2f9d6cf1e3d8195079a65c851de355134a77367bcd714b1a5d498c42d3c07114"
   }
  }
 },
 "nbformat": 4,
 "nbformat_minor": 2
}
