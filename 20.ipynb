{
 "cells": [
  {
   "cell_type": "code",
   "execution_count": 1,
   "metadata": {},
   "outputs": [
    {
     "name": "stdout",
     "output_type": "stream",
     "text": [
      "10707\n"
     ]
    }
   ],
   "source": [
    "with open(\"20.txt\") as f:\n",
    "    data = [int(line.strip()) for line in f]\n",
    "data\n",
    "src = [(idx, i) for idx, i in enumerate(data)]\n",
    "for idx, i in enumerate(data):\n",
    "    src_idx = src.index((idx, i))\n",
    "    src.remove((idx, i))\n",
    "    src.insert((src_idx + i + len(data) - 1) % (len(data) - 1), (-1, i))\n",
    "zero_idx = src.index((-1, 0))\n",
    "print(sum(src[(zero_idx + (i + 1) * 1000) % len(src)][1] for i in range(3)))\n"
   ]
  },
  {
   "cell_type": "code",
   "execution_count": 3,
   "metadata": {},
   "outputs": [
    {
     "name": "stdout",
     "output_type": "stream",
     "text": [
      "2488332343098\n"
     ]
    }
   ],
   "source": [
    "with open(\"20.txt\") as f:\n",
    "    data = [int(line.strip()) * 811589153 for line in f]\n",
    "\n",
    "src = [(idx, i) for idx, i in enumerate(data)]\n",
    "for _ in range(10):\n",
    "    for idx, i in enumerate(data):\n",
    "        src_idx = src.index((idx, i))\n",
    "        src.remove((idx, i))\n",
    "        src.insert((src_idx + i + len(data) - 1) % (len(data) - 1), (idx, i))\n",
    "zero_idx = src.index((data.index(0), 0))\n",
    "print(sum(src[(zero_idx + (i + 1) * 1000) % len(src)][1] for i in range(3)))"
   ]
  },
  {
   "cell_type": "code",
   "execution_count": null,
   "metadata": {},
   "outputs": [],
   "source": []
  }
 ],
 "metadata": {
  "kernelspec": {
   "display_name": "Python 3.8.3 64-bit",
   "language": "python",
   "name": "python3"
  },
  "language_info": {
   "codemirror_mode": {
    "name": "ipython",
    "version": 3
   },
   "file_extension": ".py",
   "mimetype": "text/x-python",
   "name": "python",
   "nbconvert_exporter": "python",
   "pygments_lexer": "ipython3",
   "version": "3.8.3"
  },
  "orig_nbformat": 4,
  "vscode": {
   "interpreter": {
    "hash": "2f9d6cf1e3d8195079a65c851de355134a77367bcd714b1a5d498c42d3c07114"
   }
  }
 },
 "nbformat": 4,
 "nbformat_minor": 2
}
