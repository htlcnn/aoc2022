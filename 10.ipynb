{
 "cells": [
  {
   "cell_type": "code",
   "execution_count": 1,
   "metadata": {},
   "outputs": [
    {
     "name": "stdout",
     "output_type": "stream",
     "text": [
      "13180\n"
     ]
    }
   ],
   "source": [
    "with open(\"10.txt\") as f:\n",
    "    data = [line.strip() for line in f]\n",
    "cycle_count = 0\n",
    "register = 1\n",
    "signal_strength = 0\n",
    "for line in data:\n",
    "    if line == \"noop\":\n",
    "        if cycle_count in (20, 60, 100, 140, 180, 220):\n",
    "            signal_strength += cycle_count * register\n",
    "        cycle_count += 1\n",
    "    if line.startswith(\"addx\"):\n",
    "        for i in range(2):\n",
    "            cycle_count += 1\n",
    "            _, value = line.split()\n",
    "            if cycle_count in (20, 60, 100, 140, 180, 220):\n",
    "                signal_strength += cycle_count * register\n",
    "        register += int(value)\n",
    "print(signal_strength)\n"
   ]
  },
  {
   "cell_type": "code",
   "execution_count": 2,
   "metadata": {},
   "outputs": [
    {
     "name": "stdout",
     "output_type": "stream",
     "text": [
      "####.####.####..##..#.....###..##..###..\n",
      "........#.#....#..#.#..#....#.#..#.#..#.\n",
      "###....#..###..#....####....#.#..####...\n",
      "......#...#....#....#..#....#.####....#.\n",
      ".....#....#....#..#.#..#....#....#.#..#.\n",
      "####.####.#.....##..#..#..#......#.##...\n"
     ]
    }
   ],
   "source": [
    "with open(\"10.txt\") as f:\n",
    "    data = [line.strip() for line in f]\n",
    "cycle_count = 0\n",
    "register = 1\n",
    "crt = []\n",
    "for idx, line in enumerate(data):\n",
    "    if line == \"noop\":\n",
    "        cycle_count += 1\n",
    "        if cycle_count % 40 in range(register - 1, register + 2):\n",
    "            crt.append(\"#\")\n",
    "        else:\n",
    "            crt.append(\".\")\n",
    "    if line.startswith(\"addx\"):\n",
    "        for i in range(2):\n",
    "            if cycle_count % 40 in range(register - 1, register + 2):\n",
    "                crt.append(\"#\")\n",
    "            else:\n",
    "                crt.append(\".\")\n",
    "            cycle_count += 1\n",
    "        _, value = line.split()\n",
    "        register += int(value)\n",
    "count = 0\n",
    "for pixel in crt:\n",
    "    print(pixel, end=\"\")\n",
    "    count += 1\n",
    "    if count == 40:\n",
    "        count = 0\n",
    "        print(\"\")"
   ]
  },
  {
   "cell_type": "code",
   "execution_count": null,
   "metadata": {},
   "outputs": [],
   "source": [
    "EZFCHJAB"
   ]
  }
 ],
 "metadata": {
  "kernelspec": {
   "display_name": "Python 3.8.3 64-bit",
   "language": "python",
   "name": "python3"
  },
  "language_info": {
   "codemirror_mode": {
    "name": "ipython",
    "version": 3
   },
   "file_extension": ".py",
   "mimetype": "text/x-python",
   "name": "python",
   "nbconvert_exporter": "python",
   "pygments_lexer": "ipython3",
   "version": "3.8.3"
  },
  "orig_nbformat": 4,
  "vscode": {
   "interpreter": {
    "hash": "2f9d6cf1e3d8195079a65c851de355134a77367bcd714b1a5d498c42d3c07114"
   }
  }
 },
 "nbformat": 4,
 "nbformat_minor": 2
}
