{
 "cells": [
  {
   "cell_type": "code",
   "execution_count": 1,
   "metadata": {},
   "outputs": [
    {
     "name": "stdout",
     "output_type": "stream",
     "text": [
      "168502451381566.0\n"
     ]
    }
   ],
   "source": [
    "data = {}\n",
    "with open(\"21.txt\") as f:\n",
    "    for line in f:\n",
    "        name, value = line.strip().split(\":\")\n",
    "        value = value.strip()\n",
    "        if value.isnumeric():\n",
    "            value = int(value)\n",
    "        data[name] = value\n",
    "\n",
    "def calculate(data, monkey_name):\n",
    "    expression = data[monkey_name]\n",
    "    if isinstance(expression, int):\n",
    "        return expression\n",
    "    ret = []\n",
    "    for name in expression.split():\n",
    "        if name in \"+-*/\":\n",
    "            ret.append(name)\n",
    "        else:\n",
    "            ret.append(calculate(data, name))\n",
    "    return eval(\"\".join(str(i) for i in ret))\n",
    "\n",
    "print(calculate(data, \"root\"))\n",
    "        "
   ]
  },
  {
   "cell_type": "code",
   "execution_count": 5,
   "metadata": {},
   "outputs": [
    {
     "name": "stdout",
     "output_type": "stream",
     "text": [
      "[3343167719435.00]\n"
     ]
    }
   ],
   "source": [
    "import sympy\n",
    "\n",
    "data = {}\n",
    "with open(\"21.txt\") as f:\n",
    "    for line in f:\n",
    "        name, value = line.strip().split(\":\")\n",
    "        value = value.strip()\n",
    "        if value.isnumeric():\n",
    "            value = int(value)\n",
    "        data[name] = value\n",
    "\n",
    "\n",
    "def calculate(data, monkey_name):\n",
    "    expression = data[monkey_name]\n",
    "    if monkey_name == \"humn\":\n",
    "        return monkey_name\n",
    "    if isinstance(expression, int):\n",
    "        return expression\n",
    "    ret = []\n",
    "    for name in expression.split():\n",
    "        if name in \"+-*/\":\n",
    "            ret.append(name)\n",
    "        else:\n",
    "            ret.append(calculate(data, name))\n",
    "    ret = \"\".join(str(i) for i in ret)\n",
    "    if \"humn\" not in ret:\n",
    "        return eval(ret)\n",
    "    else:\n",
    "        return \"({})\".format(ret)\n",
    "\n",
    "\n",
    "monkeys = data[\"root\"]\n",
    "v1, v2 = [calculate(data, m) for m in monkeys.split() if m not in \"+-*/\"]\n",
    "eq = sympy.Eq(sympy.sympify(v1) - v2, 0)\n",
    "print(sympy.solve(eq))"
   ]
  },
  {
   "cell_type": "code",
   "execution_count": 11,
   "metadata": {},
   "outputs": [
    {
     "name": "stdout",
     "output_type": "stream",
     "text": [
      "((691+((817+(6259659210072-((10+(((((875+(308+((((((2*(((683+((((2*((((((2*((((((2*(((((((((((((((((11*(810+(((((((813+(92*(((251+((((humn-611)*4)+930)/6))/2)-198)))+473)/3)-477)*2)-209)/7)))-213)*2)+387)+733)/2)+921)*2)-380)/6)+335)/6)-715)*21)+436)/2)-260))-646)*2)+623)/3)-115))+714)/2)+787)/2)-300))-592)*2)+599))/2)-421))+511)/3)-275)*2)+897)))/12)+711)*3)-635))/7)))/2))*19)\n",
      "21608329599731\n",
      "[3349136384441]\n"
     ]
    }
   ],
   "source": [
    "import sympy\n",
    "\n",
    "data = {}\n",
    "with open(\"21.2.txt\") as f:\n",
    "    for line in f:\n",
    "        name, value = line.strip().split(\":\")\n",
    "        value = value.strip()\n",
    "        if value.isnumeric():\n",
    "            value = int(value)\n",
    "        data[name] = value\n",
    "\n",
    "def calculate(data, monkey_name):\n",
    "    expression = data[monkey_name]\n",
    "    if monkey_name == \"humn\":\n",
    "        return monkey_name\n",
    "    if isinstance(expression, int):\n",
    "        return expression\n",
    "    ret = []\n",
    "    for name in expression.split():\n",
    "        if name in \"+-*/\":\n",
    "            ret.append(name)\n",
    "        else:\n",
    "            ret.append(calculate(data, name))\n",
    "    ret = \"\".join(str(i) for i in ret)\n",
    "    if \"humn\" not in ret:\n",
    "        return int(eval(ret))\n",
    "    else:\n",
    "        return \"({})\".format(ret)\n",
    "\n",
    "monkeys = data[\"root\"]\n",
    "v1, v2 = [calculate(data, m) for m in monkeys.split() if m not in \"+-*/\"]\n",
    "print(v1)\n",
    "print(v2)\n",
    "eq = sympy.Eq(sympy.sympify(v1), v2)\n",
    "print(sympy.solve(eq))\n",
    "        "
   ]
  }
 ],
 "metadata": {
  "kernelspec": {
   "display_name": "Python 3.8.3 64-bit",
   "language": "python",
   "name": "python3"
  },
  "language_info": {
   "codemirror_mode": {
    "name": "ipython",
    "version": 3
   },
   "file_extension": ".py",
   "mimetype": "text/x-python",
   "name": "python",
   "nbconvert_exporter": "python",
   "pygments_lexer": "ipython3",
   "version": "3.8.3"
  },
  "orig_nbformat": 4,
  "vscode": {
   "interpreter": {
    "hash": "2f9d6cf1e3d8195079a65c851de355134a77367bcd714b1a5d498c42d3c07114"
   }
  }
 },
 "nbformat": 4,
 "nbformat_minor": 2
}
