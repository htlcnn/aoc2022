{
 "cells": [
  {
   "cell_type": "code",
   "execution_count": 13,
   "metadata": {},
   "outputs": [
    {
     "name": "stdout",
     "output_type": "stream",
     "text": [
      "513\n"
     ]
    }
   ],
   "source": [
    "count = 0\n",
    "with open(\"4.txt\") as f:\n",
    "    for line in f:\n",
    "        e1, e2 = line.strip().split(\",\")\n",
    "        e11, e12 = e1.split(\"-\")\n",
    "        e21, e22 = e2.split(\"-\")\n",
    "        e11 = int(e11)\n",
    "        e12 = int(e12)\n",
    "        e21 = int(e21)\n",
    "        e22 = int(e22)\n",
    "        if (e11 <= e21 and e12 >= e22) or (e11 >= e21 and e12 <= e22):\n",
    "            count += 1\n",
    "print(count)"
   ]
  },
  {
   "cell_type": "code",
   "execution_count": 11,
   "metadata": {},
   "outputs": [
    {
     "name": "stdout",
     "output_type": "stream",
     "text": [
      "878\n"
     ]
    }
   ],
   "source": [
    "count = 0\n",
    "with open(\"4.txt\") as f:\n",
    "    for line in f:\n",
    "        e1, e2 = line.strip().split(\",\")\n",
    "        e11, e12 = e1.split(\"-\")\n",
    "        e21, e22 = e2.split(\"-\")\n",
    "        e11 = int(e11)\n",
    "        e12 = int(e12)\n",
    "        e21 = int(e21)\n",
    "        e22 = int(e22)\n",
    "        if e21 <= e11 <= e22 or e11 <= e21 <= e12:\n",
    "            count += 1\n",
    "print(count)"
   ]
  },
  {
   "cell_type": "code",
   "execution_count": 9,
   "metadata": {},
   "outputs": [
    {
     "data": {
      "text/plain": [
       "True"
      ]
     },
     "execution_count": 9,
     "metadata": {},
     "output_type": "execute_result"
    }
   ],
   "source": [
    "'200' <= '30'"
   ]
  }
 ],
 "metadata": {
  "kernelspec": {
   "display_name": "Python 3.8.3 64-bit",
   "language": "python",
   "name": "python3"
  },
  "language_info": {
   "codemirror_mode": {
    "name": "ipython",
    "version": 3
   },
   "file_extension": ".py",
   "mimetype": "text/x-python",
   "name": "python",
   "nbconvert_exporter": "python",
   "pygments_lexer": "ipython3",
   "version": "3.8.3"
  },
  "orig_nbformat": 4,
  "vscode": {
   "interpreter": {
    "hash": "2f9d6cf1e3d8195079a65c851de355134a77367bcd714b1a5d498c42d3c07114"
   }
  }
 },
 "nbformat": 4,
 "nbformat_minor": 2
}
