{
 "cells": [
  {
   "cell_type": "code",
   "execution_count": 14,
   "metadata": {},
   "outputs": [
    {
     "name": "stdout",
     "output_type": "stream",
     "text": [
      "['w', 't', 'f', 'm'] 1876\n"
     ]
    }
   ],
   "source": [
    "stream = []\n",
    "with open(\"6.txt\") as f:\n",
    "    data = f.read().strip()\n",
    "    for idx, c in enumerate(data, start=1):\n",
    "        if c in stream:\n",
    "            stream = [c]\n",
    "            continue\n",
    "        stream.append(c)\n",
    "        if len(stream) == 4:\n",
    "            break\n",
    "print(stream, idx)"
   ]
  },
  {
   "cell_type": "code",
   "execution_count": 12,
   "metadata": {},
   "outputs": [
    {
     "name": "stdout",
     "output_type": "stream",
     "text": [
      "['f', 'w', 's', 'v', 't', 'c', 'r', 'g', 'h', 'b', 'n', 'l', 'd'] 2202\n"
     ]
    }
   ],
   "source": [
    "stream = []\n",
    "with open(\"6.txt\") as f:\n",
    "    data = f.read().strip()\n",
    "    for idx, c in enumerate(data, start=1):\n",
    "        if c in stream:\n",
    "            stream = [c]\n",
    "            continue\n",
    "        stream.append(c)\n",
    "        if len(stream) == 13:\n",
    "            break\n",
    "print(stream, idx)"
   ]
  }
 ],
 "metadata": {
  "kernelspec": {
   "display_name": "Python 3.8.3 64-bit",
   "language": "python",
   "name": "python3"
  },
  "language_info": {
   "codemirror_mode": {
    "name": "ipython",
    "version": 3
   },
   "file_extension": ".py",
   "mimetype": "text/x-python",
   "name": "python",
   "nbconvert_exporter": "python",
   "pygments_lexer": "ipython3",
   "version": "3.8.3"
  },
  "orig_nbformat": 4,
  "vscode": {
   "interpreter": {
    "hash": "2f9d6cf1e3d8195079a65c851de355134a77367bcd714b1a5d498c42d3c07114"
   }
  }
 },
 "nbformat": 4,
 "nbformat_minor": 2
}
