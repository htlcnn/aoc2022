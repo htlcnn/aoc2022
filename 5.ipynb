{
 "cells": [
  {
   "cell_type": "code",
   "execution_count": 1,
   "metadata": {},
   "outputs": [
    {
     "name": "stdout",
     "output_type": "stream",
     "text": [
      "[T]     [D]         [L]            \n",
      "[R]     [S] [G]     [P]         [H]\n",
      "[G]     [H] [W]     [R] [L]     [P]\n",
      "[W]     [G] [F] [H] [S] [M]     [L]\n",
      "[Q]     [V] [B] [J] [H] [N] [R] [N]\n",
      "[M] [R] [R] [P] [M] [T] [H] [Q] [C]\n",
      "[F] [F] [Z] [H] [S] [Z] [T] [D] [S]\n",
      "[P] [H] [P] [Q] [P] [M] [P] [F] [D]\n",
      " 1   2   3   4   5   6   7   8   9 \n"
     ]
    }
   ],
   "source": [
    "with open(\"5.txt\") as f:\n",
    "    stacks, instructions = f.read().split(\"\\n\\n\")\n",
    "    print(stacks)"
   ]
  },
  {
   "cell_type": "code",
   "execution_count": 2,
   "metadata": {},
   "outputs": [
    {
     "name": "stdout",
     "output_type": "stream",
     "text": [
      "TPGVQPFDH"
     ]
    }
   ],
   "source": [
    "d = {}\n",
    "for line in stacks.splitlines()[:-1]:\n",
    "    for i in range(9):\n",
    "        if i+1 not in d:\n",
    "            d[i+1] = []\n",
    "        if line[1::4][i] != \" \":\n",
    "            d[i+1].insert(0, line[1::4][i])\n",
    "            \n",
    "for instruction in instructions.splitlines():\n",
    "    quantity, src, dst = [int(i) for i in instruction.split() if i.isnumeric()]\n",
    "    d[dst].extend(d[src][-quantity:][::-1])\n",
    "    del d[src][-quantity:]\n",
    "\n",
    "for k, v in d.items():\n",
    "    print(v[-1], end=\"\")"
   ]
  },
  {
   "cell_type": "code",
   "execution_count": 3,
   "metadata": {},
   "outputs": [
    {
     "name": "stdout",
     "output_type": "stream",
     "text": [
      "DMRDFRHHH"
     ]
    }
   ],
   "source": [
    "d = {}\n",
    "for line in stacks.splitlines()[:-1]:\n",
    "    for i in range(9):\n",
    "        if i+1 not in d:\n",
    "            d[i+1] = []\n",
    "        if line[1::4][i] != \" \":\n",
    "            d[i+1].insert(0, line[1::4][i])\n",
    "            \n",
    "for instruction in instructions.splitlines():\n",
    "    quantity, src, dst = [int(i) for i in instruction.split() if i.isnumeric()]\n",
    "    d[dst].extend(d[src][-quantity:])\n",
    "    del d[src][-quantity:]\n",
    "    \n",
    "for k, v in d.items():\n",
    "    print(v[-1], end=\"\")"
   ]
  },
  {
   "cell_type": "code",
   "execution_count": null,
   "metadata": {},
   "outputs": [],
   "source": []
  }
 ],
 "metadata": {
  "kernelspec": {
   "display_name": "Python 3.8.3 64-bit",
   "language": "python",
   "name": "python3"
  },
  "language_info": {
   "codemirror_mode": {
    "name": "ipython",
    "version": 3
   },
   "file_extension": ".py",
   "mimetype": "text/x-python",
   "name": "python",
   "nbconvert_exporter": "python",
   "pygments_lexer": "ipython3",
   "version": "3.10.1"
  },
  "orig_nbformat": 4,
  "vscode": {
   "interpreter": {
    "hash": "2f9d6cf1e3d8195079a65c851de355134a77367bcd714b1a5d498c42d3c07114"
   }
  }
 },
 "nbformat": 4,
 "nbformat_minor": 2
}
