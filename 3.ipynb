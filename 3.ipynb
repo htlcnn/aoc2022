{
 "cells": [
  {
   "cell_type": "code",
   "execution_count": 1,
   "metadata": {},
   "outputs": [
    {
     "name": "stdout",
     "output_type": "stream",
     "text": [
      "8394\n"
     ]
    }
   ],
   "source": [
    "from string import ascii_letters\n",
    "points = 0\n",
    "with open(\"3.txt\") as f:\n",
    "    for line in f:\n",
    "        line = line.strip()\n",
    "        common = set(c for c in line[:len(line)//2] if c in line[-len(line)//2:]).pop()\n",
    "        points += ascii_letters.index(common) + 1\n",
    "print(points)"
   ]
  },
  {
   "cell_type": "code",
   "execution_count": 2,
   "metadata": {},
   "outputs": [
    {
     "name": "stdout",
     "output_type": "stream",
     "text": [
      "2413\n"
     ]
    }
   ],
   "source": [
    "points = 0\n",
    "with open(\"3.txt\") as f:\n",
    "    lines = f.readlines()\n",
    "    idx = 0\n",
    "    for line in lines[::3]:\n",
    "        l1 = line.strip()\n",
    "        l2 = lines[idx+1].strip()\n",
    "        l3 = lines[idx+2].strip()\n",
    "        common = set(c for c in l1 if c in l2 and c in l3)\n",
    "        \n",
    "        common = common.pop()\n",
    "        points += ascii_letters.index(common) + 1\n",
    "        idx += 3\n",
    "print(points)"
   ]
  },
  {
   "cell_type": "code",
   "execution_count": null,
   "metadata": {},
   "outputs": [],
   "source": []
  }
 ],
 "metadata": {
  "kernelspec": {
   "display_name": "Python 3.10.1 64-bit",
   "language": "python",
   "name": "python3"
  },
  "language_info": {
   "codemirror_mode": {
    "name": "ipython",
    "version": 3
   },
   "file_extension": ".py",
   "mimetype": "text/x-python",
   "name": "python",
   "nbconvert_exporter": "python",
   "pygments_lexer": "ipython3",
   "version": "3.8.3"
  },
  "orig_nbformat": 4,
  "vscode": {
   "interpreter": {
    "hash": "2f9d6cf1e3d8195079a65c851de355134a77367bcd714b1a5d498c42d3c07114"
   }
  }
 },
 "nbformat": 4,
 "nbformat_minor": 2
}
